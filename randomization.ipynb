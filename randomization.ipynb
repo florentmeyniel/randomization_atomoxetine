{
 "cells": [
  {
   "cell_type": "code",
   "execution_count": 1,
   "id": "5dd3ab03-6cbf-4478-be78-5661590c1eeb",
   "metadata": {},
   "outputs": [],
   "source": [
    "# import modules\n",
    "import numpy as np\n",
    "import pandas as pd"
   ]
  },
  {
   "cell_type": "code",
   "execution_count": 2,
   "id": "7e1ccddd-5c3e-4a0c-96bf-a57ca1f29725",
   "metadata": {},
   "outputs": [],
   "source": [
    "# get sorted list and initialize the randomized list\n",
    "sorted_df = pd.read_csv('NOISYXETINE_sorted.csv')\n",
    "rando_df = sorted_df.copy(deep=True)"
   ]
  },
  {
   "cell_type": "code",
   "execution_count": 3,
   "id": "3d7ee38f-89cc-4833-9781-ab2af4a25ce6",
   "metadata": {},
   "outputs": [],
   "source": [
    "# randomize the table\n",
    "for strate in sorted_df.strate.unique():\n",
    "    bras_list = sorted_df.loc[sorted_df.strate == strate]['bras']\n",
    "    rando_df.loc[sorted_df.strate == strate, 'bras'] = np.random.permutation(bras_list)"
   ]
  },
  {
   "cell_type": "code",
   "execution_count": 4,
   "id": "c9b4e67a-f566-4a11-84dd-f10ad0938e3e",
   "metadata": {},
   "outputs": [
    {
     "name": "stdout",
     "output_type": "stream",
     "text": [
      "strate #1: 44 C, 44 D\n",
      "strate #2: 11 C, 11 D\n",
      "strate #3: 11 C, 11 D\n",
      "strate #4: 11 C, 11 D\n",
      "strate #5: 11 C, 11 D\n"
     ]
    }
   ],
   "source": [
    "# check counts\n",
    "for strate in rando_df.strate.unique():\n",
    "    bras_list = rando_df.loc[sorted_df.strate == strate]['bras']\n",
    "    print(f\"strate #{strate}: {np.sum(bras_list == 'C')} C, {np.sum(bras_list == 'D')} D\")"
   ]
  },
  {
   "cell_type": "code",
   "execution_count": 5,
   "id": "462c7549-a943-441e-94f4-d14b05d75464",
   "metadata": {},
   "outputs": [],
   "source": [
    "# save to a csv file\n",
    "rando_df.to_csv('NOISYXETINE_randomized.csv', index=False)"
   ]
  },
  {
   "cell_type": "code",
   "execution_count": null,
   "id": "a57d264e-e595-4a65-9ae0-a6e2856a0d29",
   "metadata": {},
   "outputs": [],
   "source": []
  }
 ],
 "metadata": {
  "kernelspec": {
   "display_name": "Python 3 (ipykernel)",
   "language": "python",
   "name": "python3"
  },
  "language_info": {
   "codemirror_mode": {
    "name": "ipython",
    "version": 3
   },
   "file_extension": ".py",
   "mimetype": "text/x-python",
   "name": "python",
   "nbconvert_exporter": "python",
   "pygments_lexer": "ipython3",
   "version": "3.11.7"
  }
 },
 "nbformat": 4,
 "nbformat_minor": 5
}
